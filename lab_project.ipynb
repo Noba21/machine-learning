{
 "cells": [
  {
   "cell_type": "markdown",
   "id": "b76e6a14-daea-4d36-9f78-1972de670861",
   "metadata": {},
   "source": [
    "# Medals Prediction"
   ]
  },
  {
   "cell_type": "markdown",
   "id": "11275f34-2565-4837-bb20-f7a02344ad94",
   "metadata": {},
   "source": [
    "### Predicting how many medals the country will win at the Olympics in the given historical data using RandomForestClassifier  "
   ]
  },
  {
   "cell_type": "markdown",
   "id": "fbf6a41f-9f7f-41f8-9a4a-08f73be3ab31",
   "metadata": {},
   "source": [
    "problem:- Predicting medal counts for countries in the Olympics involves understanding and analyzing a complex set of variables,including but not limited to historical performance, the number of participating athletes, economic indicators, and demographic data. a modelt that can learn from this historical data and make accurate prediction for future events"
   ]
  },
  {
   "cell_type": "markdown",
   "id": "55b5257c-9135-4f7c-ad93-0fa26d6baa95",
   "metadata": {},
   "source": [
    "### evaluation : This model was surely work above 60% and it good enough"
   ]
  },
  {
   "cell_type": "markdown",
   "id": "3fc2954d-101f-4811-92ba-1179b08266a7",
   "metadata": {},
   "source": [
    "### For this project we used some most common and standard library that are\n",
    " :-pandas for data analysis \n",
    " \n",
    " :-NumPy for numerical operating\n",
    " \n",
    " :-Scikit-learn for machine learning modelling and evaluations  \n"
   ]
  },
  {
   "cell_type": "code",
   "execution_count": 11,
   "id": "8a6e31b1-d353-479f-85df-63e6898551b6",
   "metadata": {},
   "outputs": [],
   "source": [
    "import numpy as np\n",
    "import pandas as pd"
   ]
  },
  {
   "cell_type": "markdown",
   "id": "3820a916-a65b-4f36-8deb-e392b4df2f56",
   "metadata": {},
   "source": [
    "#### After import the library the next step is load the data.\n",
    " This data have 8 feature and this feature are important to learn our model ,the data-set that we used is historical medals win  of olympic starting from 1964-2016 and have 2014 raw x 8 column."
   ]
  },
  {
   "cell_type": "code",
   "execution_count": 12,
   "id": "4998e089-1c41-4376-a1a7-c4ccbdfefb22",
   "metadata": {},
   "outputs": [
    {
     "data": {
      "text/html": [
       "<div>\n",
       "<style scoped>\n",
       "    .dataframe tbody tr th:only-of-type {\n",
       "        vertical-align: middle;\n",
       "    }\n",
       "\n",
       "    .dataframe tbody tr th {\n",
       "        vertical-align: top;\n",
       "    }\n",
       "\n",
       "    .dataframe thead th {\n",
       "        text-align: right;\n",
       "    }\n",
       "</style>\n",
       "<table border=\"1\" class=\"dataframe\">\n",
       "  <thead>\n",
       "    <tr style=\"text-align: right;\">\n",
       "      <th></th>\n",
       "      <th>team</th>\n",
       "      <th>year</th>\n",
       "      <th>athletes</th>\n",
       "      <th>events</th>\n",
       "      <th>age</th>\n",
       "      <th>height</th>\n",
       "      <th>weight</th>\n",
       "      <th>prev_medals</th>\n",
       "      <th>medals</th>\n",
       "    </tr>\n",
       "  </thead>\n",
       "  <tbody>\n",
       "    <tr>\n",
       "      <th>0</th>\n",
       "      <td>AFG</td>\n",
       "      <td>1964</td>\n",
       "      <td>8</td>\n",
       "      <td>8</td>\n",
       "      <td>22.0</td>\n",
       "      <td>161.0</td>\n",
       "      <td>64.2</td>\n",
       "      <td>0</td>\n",
       "      <td>0</td>\n",
       "    </tr>\n",
       "    <tr>\n",
       "      <th>1</th>\n",
       "      <td>AFG</td>\n",
       "      <td>1968</td>\n",
       "      <td>5</td>\n",
       "      <td>5</td>\n",
       "      <td>23.2</td>\n",
       "      <td>170.2</td>\n",
       "      <td>70.0</td>\n",
       "      <td>0</td>\n",
       "      <td>0</td>\n",
       "    </tr>\n",
       "    <tr>\n",
       "      <th>2</th>\n",
       "      <td>AFG</td>\n",
       "      <td>1972</td>\n",
       "      <td>8</td>\n",
       "      <td>8</td>\n",
       "      <td>29.0</td>\n",
       "      <td>168.3</td>\n",
       "      <td>63.8</td>\n",
       "      <td>0</td>\n",
       "      <td>0</td>\n",
       "    </tr>\n",
       "    <tr>\n",
       "      <th>3</th>\n",
       "      <td>AFG</td>\n",
       "      <td>1980</td>\n",
       "      <td>11</td>\n",
       "      <td>11</td>\n",
       "      <td>23.6</td>\n",
       "      <td>168.4</td>\n",
       "      <td>63.2</td>\n",
       "      <td>0</td>\n",
       "      <td>0</td>\n",
       "    </tr>\n",
       "    <tr>\n",
       "      <th>4</th>\n",
       "      <td>AFG</td>\n",
       "      <td>2004</td>\n",
       "      <td>5</td>\n",
       "      <td>5</td>\n",
       "      <td>18.6</td>\n",
       "      <td>170.8</td>\n",
       "      <td>64.8</td>\n",
       "      <td>0</td>\n",
       "      <td>0</td>\n",
       "    </tr>\n",
       "    <tr>\n",
       "      <th>...</th>\n",
       "      <td>...</td>\n",
       "      <td>...</td>\n",
       "      <td>...</td>\n",
       "      <td>...</td>\n",
       "      <td>...</td>\n",
       "      <td>...</td>\n",
       "      <td>...</td>\n",
       "      <td>...</td>\n",
       "      <td>...</td>\n",
       "    </tr>\n",
       "    <tr>\n",
       "      <th>329</th>\n",
       "      <td>CAY</td>\n",
       "      <td>1996</td>\n",
       "      <td>9</td>\n",
       "      <td>7</td>\n",
       "      <td>30.8</td>\n",
       "      <td>176.3</td>\n",
       "      <td>69.0</td>\n",
       "      <td>0</td>\n",
       "      <td>0</td>\n",
       "    </tr>\n",
       "    <tr>\n",
       "      <th>330</th>\n",
       "      <td>CAY</td>\n",
       "      <td>2000</td>\n",
       "      <td>4</td>\n",
       "      <td>4</td>\n",
       "      <td>24.0</td>\n",
       "      <td>173.2</td>\n",
       "      <td>66.8</td>\n",
       "      <td>0</td>\n",
       "      <td>0</td>\n",
       "    </tr>\n",
       "    <tr>\n",
       "      <th>331</th>\n",
       "      <td>CAY</td>\n",
       "      <td>2004</td>\n",
       "      <td>8</td>\n",
       "      <td>8</td>\n",
       "      <td>21.8</td>\n",
       "      <td>174.4</td>\n",
       "      <td>72.6</td>\n",
       "      <td>0</td>\n",
       "      <td>0</td>\n",
       "    </tr>\n",
       "    <tr>\n",
       "      <th>332</th>\n",
       "      <td>CAY</td>\n",
       "      <td>2008</td>\n",
       "      <td>6</td>\n",
       "      <td>6</td>\n",
       "      <td>21.8</td>\n",
       "      <td>185.7</td>\n",
       "      <td>82.7</td>\n",
       "      <td>0</td>\n",
       "      <td>0</td>\n",
       "    </tr>\n",
       "    <tr>\n",
       "      <th>333</th>\n",
       "      <td>CAY</td>\n",
       "      <td>2012</td>\n",
       "      <td>7</td>\n",
       "      <td>5</td>\n",
       "      <td>23.3</td>\n",
       "      <td>187.0</td>\n",
       "      <td>84.1</td>\n",
       "      <td>0</td>\n",
       "      <td>0</td>\n",
       "    </tr>\n",
       "  </tbody>\n",
       "</table>\n",
       "<p>334 rows × 9 columns</p>\n",
       "</div>"
      ],
      "text/plain": [
       "    team  year  athletes  events   age  height  weight  prev_medals  medals\n",
       "0    AFG  1964         8       8  22.0   161.0    64.2            0       0\n",
       "1    AFG  1968         5       5  23.2   170.2    70.0            0       0\n",
       "2    AFG  1972         8       8  29.0   168.3    63.8            0       0\n",
       "3    AFG  1980        11      11  23.6   168.4    63.2            0       0\n",
       "4    AFG  2004         5       5  18.6   170.8    64.8            0       0\n",
       "..   ...   ...       ...     ...   ...     ...     ...          ...     ...\n",
       "329  CAY  1996         9       7  30.8   176.3    69.0            0       0\n",
       "330  CAY  2000         4       4  24.0   173.2    66.8            0       0\n",
       "331  CAY  2004         8       8  21.8   174.4    72.6            0       0\n",
       "332  CAY  2008         6       6  21.8   185.7    82.7            0       0\n",
       "333  CAY  2012         7       5  23.3   187.0    84.1            0       0\n",
       "\n",
       "[334 rows x 9 columns]"
      ]
     },
     "execution_count": 12,
     "metadata": {},
     "output_type": "execute_result"
    }
   ],
   "source": [
    "team=pd.read_csv(\"teams - Copy.csv\")\n",
    "team"
   ]
  },
  {
   "cell_type": "markdown",
   "id": "a1b0b39d-dd94-4b56-a583-1fdbf76ffadc",
   "metadata": {},
   "source": [
    "### Data Exploration\n",
    "we try to answer the question number of the medals the country will win in the Olympic "
   ]
  },
  {
   "cell_type": "markdown",
   "id": "58065499-ad9a-4902-83bd-51728912b390",
   "metadata": {},
   "source": [
    "### Modeling "
   ]
  },
  {
   "cell_type": "markdown",
   "id": "74c8b1cb-81a3-4d0a-a50a-c62722f9aa9a",
   "metadata": {},
   "source": [
    "#### feature and label\n",
    "feature :- team,year,athletes,events,age,height,weight,prev_medals\n",
    "\n",
    "label :- medals\n",
    "\n",
    "In this project we use the \"x\" variable as the feature and \"y\" variable as label"
   ]
  },
  {
   "cell_type": "code",
   "execution_count": 13,
   "id": "47475e2d-bdbb-4658-bc47-9fc246418b53",
   "metadata": {},
   "outputs": [
    {
     "name": "stdout",
     "output_type": "stream",
     "text": [
      "0    0\n",
      "1    0\n",
      "2    0\n",
      "3    0\n",
      "4    0\n",
      "Name: medals, dtype: int64\n",
      "    team  year  athletes  events   age  height  weight  prev_medals\n",
      "0    AFG  1964         8       8  22.0   161.0    64.2            0\n",
      "1    AFG  1968         5       5  23.2   170.2    70.0            0\n",
      "2    AFG  1972         8       8  29.0   168.3    63.8            0\n",
      "3    AFG  1980        11      11  23.6   168.4    63.2            0\n",
      "4    AFG  2004         5       5  18.6   170.8    64.8            0\n",
      "..   ...   ...       ...     ...   ...     ...     ...          ...\n",
      "329  CAY  1996         9       7  30.8   176.3    69.0            0\n",
      "330  CAY  2000         4       4  24.0   173.2    66.8            0\n",
      "331  CAY  2004         8       8  21.8   174.4    72.6            0\n",
      "332  CAY  2008         6       6  21.8   185.7    82.7            0\n",
      "333  CAY  2012         7       5  23.3   187.0    84.1            0\n",
      "\n",
      "[334 rows x 8 columns]\n"
     ]
    }
   ],
   "source": [
    "x=team.drop(\"medals\",axis=1)\n",
    "y=team[\"medals\"]\n",
    "print(y.head())\n",
    "print(x)"
   ]
  },
  {
   "cell_type": "markdown",
   "id": "e00053e6-10a5-46e6-b8f0-3aea0c49630d",
   "metadata": {},
   "source": [
    "### training and test split\n",
    "This is the next step after the feature and label are identified.\n",
    "to do this import the train_test_split from the  sklearn.model_selection library and pass the x,y parameters"
   ]
  },
  {
   "cell_type": "code",
   "execution_count": 14,
   "id": "f98d3096-1884-44e5-a3bf-fad0454966e2",
   "metadata": {},
   "outputs": [],
   "source": [
    "from sklearn.model_selection import train_test_split"
   ]
  },
  {
   "cell_type": "markdown",
   "id": "edddb9f7-40cb-4614-ae51-5eb302144e33",
   "metadata": {},
   "source": [
    "After import the library , create the object and set the test_size"
   ]
  },
  {
   "cell_type": "code",
   "execution_count": 15,
   "id": "78b600eb-e93c-4b99-956c-c46aa25a5146",
   "metadata": {},
   "outputs": [
    {
     "data": {
      "text/plain": [
       "((217, 8), (117, 8), (217,), (117,))"
      ]
     },
     "execution_count": 15,
     "metadata": {},
     "output_type": "execute_result"
    }
   ],
   "source": [
    "x_train ,x_test,y_train,y_test=train_test_split(x,y,test_size=0.35)\n",
    "x_train.shape,x_test.shape,y_train.shape,y_test.shape"
   ]
  },
  {
   "cell_type": "markdown",
   "id": "169f00fc-b5ee-4997-9dc5-00b3a2e36125",
   "metadata": {},
   "source": [
    "#### model train \n",
    "there are many model to do this problem of that model's we choosing the RandomForestClassifier model."
   ]
  },
  {
   "cell_type": "code",
   "execution_count": 16,
   "id": "ffe5b523-4f05-4005-8e0d-43d08cc23b10",
   "metadata": {},
   "outputs": [],
   "source": [
    "from sklearn.ensemble import RandomForestClassifier"
   ]
  },
  {
   "cell_type": "markdown",
   "id": "9582b23d-15e5-4120-b9bc-d22a8763fdeb",
   "metadata": {},
   "source": [
    "After choosing the model now creating the model"
   ]
  },
  {
   "cell_type": "code",
   "execution_count": 17,
   "id": "6ec55dbc-2c55-49aa-a638-b38f78818f3f",
   "metadata": {},
   "outputs": [],
   "source": [
    "model=RandomForestClassifier()"
   ]
  },
  {
   "cell_type": "markdown",
   "id": "c220c7dd-bac4-4eb9-96ab-73e9734de8e7",
   "metadata": {},
   "source": [
    "#### Model learn\n",
    "Now we are finished choosing and creating our model so we have to learn the model that we are choosing by calling the created model and pass the value that used to train our model."
   ]
  },
  {
   "cell_type": "code",
   "execution_count": 18,
   "id": "3d00af07-b977-416b-b9b0-198d3c827674",
   "metadata": {},
   "outputs": [
    {
     "ename": "ValueError",
     "evalue": "could not convert string to float: 'BHU'",
     "output_type": "error",
     "traceback": [
      "\u001b[1;31m---------------------------------------------------------------------------\u001b[0m",
      "\u001b[1;31mValueError\u001b[0m                                Traceback (most recent call last)",
      "\u001b[1;32m~\\AppData\\Local\\Temp\\ipykernel_22628\\1002171229.py\u001b[0m in \u001b[0;36m?\u001b[1;34m()\u001b[0m\n\u001b[1;32m----> 1\u001b[1;33m \u001b[0mmodel\u001b[0m\u001b[1;33m.\u001b[0m\u001b[0mfit\u001b[0m\u001b[1;33m(\u001b[0m\u001b[0mx_train\u001b[0m\u001b[1;33m,\u001b[0m\u001b[0my_train\u001b[0m\u001b[1;33m)\u001b[0m\u001b[1;33m\u001b[0m\u001b[1;33m\u001b[0m\u001b[0m\n\u001b[0m",
      "\u001b[1;32m~\\AppData\\Roaming\\Python\\Python311\\site-packages\\sklearn\\base.py\u001b[0m in \u001b[0;36m?\u001b[1;34m(estimator, *args, **kwargs)\u001b[0m\n\u001b[0;32m   1469\u001b[0m                 skip_parameter_validation=(\n\u001b[0;32m   1470\u001b[0m                     \u001b[0mprefer_skip_nested_validation\u001b[0m \u001b[1;32mor\u001b[0m \u001b[0mglobal_skip_validation\u001b[0m\u001b[1;33m\u001b[0m\u001b[1;33m\u001b[0m\u001b[0m\n\u001b[0;32m   1471\u001b[0m                 )\n\u001b[0;32m   1472\u001b[0m             ):\n\u001b[1;32m-> 1473\u001b[1;33m                 \u001b[1;32mreturn\u001b[0m \u001b[0mfit_method\u001b[0m\u001b[1;33m(\u001b[0m\u001b[0mestimator\u001b[0m\u001b[1;33m,\u001b[0m \u001b[1;33m*\u001b[0m\u001b[0margs\u001b[0m\u001b[1;33m,\u001b[0m \u001b[1;33m**\u001b[0m\u001b[0mkwargs\u001b[0m\u001b[1;33m)\u001b[0m\u001b[1;33m\u001b[0m\u001b[1;33m\u001b[0m\u001b[0m\n\u001b[0m",
      "\u001b[1;32m~\\AppData\\Roaming\\Python\\Python311\\site-packages\\sklearn\\ensemble\\_forest.py\u001b[0m in \u001b[0;36m?\u001b[1;34m(self, X, y, sample_weight)\u001b[0m\n\u001b[0;32m    359\u001b[0m         \u001b[1;31m# Validate or convert input data\u001b[0m\u001b[1;33m\u001b[0m\u001b[1;33m\u001b[0m\u001b[0m\n\u001b[0;32m    360\u001b[0m         \u001b[1;32mif\u001b[0m \u001b[0missparse\u001b[0m\u001b[1;33m(\u001b[0m\u001b[0my\u001b[0m\u001b[1;33m)\u001b[0m\u001b[1;33m:\u001b[0m\u001b[1;33m\u001b[0m\u001b[1;33m\u001b[0m\u001b[0m\n\u001b[0;32m    361\u001b[0m             \u001b[1;32mraise\u001b[0m \u001b[0mValueError\u001b[0m\u001b[1;33m(\u001b[0m\u001b[1;34m\"sparse multilabel-indicator for y is not supported.\"\u001b[0m\u001b[1;33m)\u001b[0m\u001b[1;33m\u001b[0m\u001b[1;33m\u001b[0m\u001b[0m\n\u001b[0;32m    362\u001b[0m \u001b[1;33m\u001b[0m\u001b[0m\n\u001b[1;32m--> 363\u001b[1;33m         X, y = self._validate_data(\n\u001b[0m\u001b[0;32m    364\u001b[0m             \u001b[0mX\u001b[0m\u001b[1;33m,\u001b[0m\u001b[1;33m\u001b[0m\u001b[1;33m\u001b[0m\u001b[0m\n\u001b[0;32m    365\u001b[0m             \u001b[0my\u001b[0m\u001b[1;33m,\u001b[0m\u001b[1;33m\u001b[0m\u001b[1;33m\u001b[0m\u001b[0m\n\u001b[0;32m    366\u001b[0m             \u001b[0mmulti_output\u001b[0m\u001b[1;33m=\u001b[0m\u001b[1;32mTrue\u001b[0m\u001b[1;33m,\u001b[0m\u001b[1;33m\u001b[0m\u001b[1;33m\u001b[0m\u001b[0m\n",
      "\u001b[1;32m~\\AppData\\Roaming\\Python\\Python311\\site-packages\\sklearn\\base.py\u001b[0m in \u001b[0;36m?\u001b[1;34m(self, X, y, reset, validate_separately, cast_to_ndarray, **check_params)\u001b[0m\n\u001b[0;32m    646\u001b[0m                 \u001b[1;32mif\u001b[0m \u001b[1;34m\"estimator\"\u001b[0m \u001b[1;32mnot\u001b[0m \u001b[1;32min\u001b[0m \u001b[0mcheck_y_params\u001b[0m\u001b[1;33m:\u001b[0m\u001b[1;33m\u001b[0m\u001b[1;33m\u001b[0m\u001b[0m\n\u001b[0;32m    647\u001b[0m                     \u001b[0mcheck_y_params\u001b[0m \u001b[1;33m=\u001b[0m \u001b[1;33m{\u001b[0m\u001b[1;33m**\u001b[0m\u001b[0mdefault_check_params\u001b[0m\u001b[1;33m,\u001b[0m \u001b[1;33m**\u001b[0m\u001b[0mcheck_y_params\u001b[0m\u001b[1;33m}\u001b[0m\u001b[1;33m\u001b[0m\u001b[1;33m\u001b[0m\u001b[0m\n\u001b[0;32m    648\u001b[0m                 \u001b[0my\u001b[0m \u001b[1;33m=\u001b[0m \u001b[0mcheck_array\u001b[0m\u001b[1;33m(\u001b[0m\u001b[0my\u001b[0m\u001b[1;33m,\u001b[0m \u001b[0minput_name\u001b[0m\u001b[1;33m=\u001b[0m\u001b[1;34m\"y\"\u001b[0m\u001b[1;33m,\u001b[0m \u001b[1;33m**\u001b[0m\u001b[0mcheck_y_params\u001b[0m\u001b[1;33m)\u001b[0m\u001b[1;33m\u001b[0m\u001b[1;33m\u001b[0m\u001b[0m\n\u001b[0;32m    649\u001b[0m             \u001b[1;32melse\u001b[0m\u001b[1;33m:\u001b[0m\u001b[1;33m\u001b[0m\u001b[1;33m\u001b[0m\u001b[0m\n\u001b[1;32m--> 650\u001b[1;33m                 \u001b[0mX\u001b[0m\u001b[1;33m,\u001b[0m \u001b[0my\u001b[0m \u001b[1;33m=\u001b[0m \u001b[0mcheck_X_y\u001b[0m\u001b[1;33m(\u001b[0m\u001b[0mX\u001b[0m\u001b[1;33m,\u001b[0m \u001b[0my\u001b[0m\u001b[1;33m,\u001b[0m \u001b[1;33m**\u001b[0m\u001b[0mcheck_params\u001b[0m\u001b[1;33m)\u001b[0m\u001b[1;33m\u001b[0m\u001b[1;33m\u001b[0m\u001b[0m\n\u001b[0m\u001b[0;32m    651\u001b[0m             \u001b[0mout\u001b[0m \u001b[1;33m=\u001b[0m \u001b[0mX\u001b[0m\u001b[1;33m,\u001b[0m \u001b[0my\u001b[0m\u001b[1;33m\u001b[0m\u001b[1;33m\u001b[0m\u001b[0m\n\u001b[0;32m    652\u001b[0m \u001b[1;33m\u001b[0m\u001b[0m\n\u001b[0;32m    653\u001b[0m         \u001b[1;32mif\u001b[0m \u001b[1;32mnot\u001b[0m \u001b[0mno_val_X\u001b[0m \u001b[1;32mand\u001b[0m \u001b[0mcheck_params\u001b[0m\u001b[1;33m.\u001b[0m\u001b[0mget\u001b[0m\u001b[1;33m(\u001b[0m\u001b[1;34m\"ensure_2d\"\u001b[0m\u001b[1;33m,\u001b[0m \u001b[1;32mTrue\u001b[0m\u001b[1;33m)\u001b[0m\u001b[1;33m:\u001b[0m\u001b[1;33m\u001b[0m\u001b[1;33m\u001b[0m\u001b[0m\n",
      "\u001b[1;32m~\\AppData\\Roaming\\Python\\Python311\\site-packages\\sklearn\\utils\\validation.py\u001b[0m in \u001b[0;36m?\u001b[1;34m(X, y, accept_sparse, accept_large_sparse, dtype, order, copy, force_all_finite, ensure_2d, allow_nd, multi_output, ensure_min_samples, ensure_min_features, y_numeric, estimator)\u001b[0m\n\u001b[0;32m   1269\u001b[0m         raise ValueError(\n\u001b[0;32m   1270\u001b[0m             \u001b[1;34mf\"{estimator_name} requires y to be passed, but the target y is None\"\u001b[0m\u001b[1;33m\u001b[0m\u001b[1;33m\u001b[0m\u001b[0m\n\u001b[0;32m   1271\u001b[0m         )\n\u001b[0;32m   1272\u001b[0m \u001b[1;33m\u001b[0m\u001b[0m\n\u001b[1;32m-> 1273\u001b[1;33m     X = check_array(\n\u001b[0m\u001b[0;32m   1274\u001b[0m         \u001b[0mX\u001b[0m\u001b[1;33m,\u001b[0m\u001b[1;33m\u001b[0m\u001b[1;33m\u001b[0m\u001b[0m\n\u001b[0;32m   1275\u001b[0m         \u001b[0maccept_sparse\u001b[0m\u001b[1;33m=\u001b[0m\u001b[0maccept_sparse\u001b[0m\u001b[1;33m,\u001b[0m\u001b[1;33m\u001b[0m\u001b[1;33m\u001b[0m\u001b[0m\n\u001b[0;32m   1276\u001b[0m         \u001b[0maccept_large_sparse\u001b[0m\u001b[1;33m=\u001b[0m\u001b[0maccept_large_sparse\u001b[0m\u001b[1;33m,\u001b[0m\u001b[1;33m\u001b[0m\u001b[1;33m\u001b[0m\u001b[0m\n",
      "\u001b[1;32m~\\AppData\\Roaming\\Python\\Python311\\site-packages\\sklearn\\utils\\validation.py\u001b[0m in \u001b[0;36m?\u001b[1;34m(array, accept_sparse, accept_large_sparse, dtype, order, copy, force_all_finite, ensure_2d, allow_nd, ensure_min_samples, ensure_min_features, estimator, input_name)\u001b[0m\n\u001b[0;32m   1004\u001b[0m                         )\n\u001b[0;32m   1005\u001b[0m                     \u001b[0marray\u001b[0m \u001b[1;33m=\u001b[0m \u001b[0mxp\u001b[0m\u001b[1;33m.\u001b[0m\u001b[0mastype\u001b[0m\u001b[1;33m(\u001b[0m\u001b[0marray\u001b[0m\u001b[1;33m,\u001b[0m \u001b[0mdtype\u001b[0m\u001b[1;33m,\u001b[0m \u001b[0mcopy\u001b[0m\u001b[1;33m=\u001b[0m\u001b[1;32mFalse\u001b[0m\u001b[1;33m)\u001b[0m\u001b[1;33m\u001b[0m\u001b[1;33m\u001b[0m\u001b[0m\n\u001b[0;32m   1006\u001b[0m                 \u001b[1;32melse\u001b[0m\u001b[1;33m:\u001b[0m\u001b[1;33m\u001b[0m\u001b[1;33m\u001b[0m\u001b[0m\n\u001b[0;32m   1007\u001b[0m                     \u001b[0marray\u001b[0m \u001b[1;33m=\u001b[0m \u001b[0m_asarray_with_order\u001b[0m\u001b[1;33m(\u001b[0m\u001b[0marray\u001b[0m\u001b[1;33m,\u001b[0m \u001b[0morder\u001b[0m\u001b[1;33m=\u001b[0m\u001b[0morder\u001b[0m\u001b[1;33m,\u001b[0m \u001b[0mdtype\u001b[0m\u001b[1;33m=\u001b[0m\u001b[0mdtype\u001b[0m\u001b[1;33m,\u001b[0m \u001b[0mxp\u001b[0m\u001b[1;33m=\u001b[0m\u001b[0mxp\u001b[0m\u001b[1;33m)\u001b[0m\u001b[1;33m\u001b[0m\u001b[1;33m\u001b[0m\u001b[0m\n\u001b[1;32m-> 1008\u001b[1;33m             \u001b[1;32mexcept\u001b[0m \u001b[0mComplexWarning\u001b[0m \u001b[1;32mas\u001b[0m \u001b[0mcomplex_warning\u001b[0m\u001b[1;33m:\u001b[0m\u001b[1;33m\u001b[0m\u001b[1;33m\u001b[0m\u001b[0m\n\u001b[0m\u001b[0;32m   1009\u001b[0m                 raise ValueError(\n\u001b[0;32m   1010\u001b[0m                     \u001b[1;34m\"Complex data not supported\\n{}\\n\"\u001b[0m\u001b[1;33m.\u001b[0m\u001b[0mformat\u001b[0m\u001b[1;33m(\u001b[0m\u001b[0marray\u001b[0m\u001b[1;33m)\u001b[0m\u001b[1;33m\u001b[0m\u001b[1;33m\u001b[0m\u001b[0m\n\u001b[0;32m   1011\u001b[0m                 ) from complex_warning\n",
      "\u001b[1;32m~\\AppData\\Roaming\\Python\\Python311\\site-packages\\sklearn\\utils\\_array_api.py\u001b[0m in \u001b[0;36m?\u001b[1;34m(array, dtype, order, copy, xp, device)\u001b[0m\n\u001b[0;32m    742\u001b[0m         \u001b[1;31m# Use NumPy API to support order\u001b[0m\u001b[1;33m\u001b[0m\u001b[1;33m\u001b[0m\u001b[0m\n\u001b[0;32m    743\u001b[0m         \u001b[1;32mif\u001b[0m \u001b[0mcopy\u001b[0m \u001b[1;32mis\u001b[0m \u001b[1;32mTrue\u001b[0m\u001b[1;33m:\u001b[0m\u001b[1;33m\u001b[0m\u001b[1;33m\u001b[0m\u001b[0m\n\u001b[0;32m    744\u001b[0m             \u001b[0marray\u001b[0m \u001b[1;33m=\u001b[0m \u001b[0mnumpy\u001b[0m\u001b[1;33m.\u001b[0m\u001b[0marray\u001b[0m\u001b[1;33m(\u001b[0m\u001b[0marray\u001b[0m\u001b[1;33m,\u001b[0m \u001b[0morder\u001b[0m\u001b[1;33m=\u001b[0m\u001b[0morder\u001b[0m\u001b[1;33m,\u001b[0m \u001b[0mdtype\u001b[0m\u001b[1;33m=\u001b[0m\u001b[0mdtype\u001b[0m\u001b[1;33m)\u001b[0m\u001b[1;33m\u001b[0m\u001b[1;33m\u001b[0m\u001b[0m\n\u001b[0;32m    745\u001b[0m         \u001b[1;32melse\u001b[0m\u001b[1;33m:\u001b[0m\u001b[1;33m\u001b[0m\u001b[1;33m\u001b[0m\u001b[0m\n\u001b[1;32m--> 746\u001b[1;33m             \u001b[0marray\u001b[0m \u001b[1;33m=\u001b[0m \u001b[0mnumpy\u001b[0m\u001b[1;33m.\u001b[0m\u001b[0masarray\u001b[0m\u001b[1;33m(\u001b[0m\u001b[0marray\u001b[0m\u001b[1;33m,\u001b[0m \u001b[0morder\u001b[0m\u001b[1;33m=\u001b[0m\u001b[0morder\u001b[0m\u001b[1;33m,\u001b[0m \u001b[0mdtype\u001b[0m\u001b[1;33m=\u001b[0m\u001b[0mdtype\u001b[0m\u001b[1;33m)\u001b[0m\u001b[1;33m\u001b[0m\u001b[1;33m\u001b[0m\u001b[0m\n\u001b[0m\u001b[0;32m    747\u001b[0m \u001b[1;33m\u001b[0m\u001b[0m\n\u001b[0;32m    748\u001b[0m         \u001b[1;31m# At this point array is a NumPy ndarray. We convert it to an array\u001b[0m\u001b[1;33m\u001b[0m\u001b[1;33m\u001b[0m\u001b[0m\n\u001b[0;32m    749\u001b[0m         \u001b[1;31m# container that is consistent with the input's namespace.\u001b[0m\u001b[1;33m\u001b[0m\u001b[1;33m\u001b[0m\u001b[0m\n",
      "\u001b[1;32m~\\AppData\\Roaming\\Python\\Python311\\site-packages\\pandas\\core\\generic.py\u001b[0m in \u001b[0;36m?\u001b[1;34m(self, dtype, copy)\u001b[0m\n\u001b[0;32m   2149\u001b[0m     def __array__(\n\u001b[0;32m   2150\u001b[0m         \u001b[0mself\u001b[0m\u001b[1;33m,\u001b[0m \u001b[0mdtype\u001b[0m\u001b[1;33m:\u001b[0m \u001b[0mnpt\u001b[0m\u001b[1;33m.\u001b[0m\u001b[0mDTypeLike\u001b[0m \u001b[1;33m|\u001b[0m \u001b[1;32mNone\u001b[0m \u001b[1;33m=\u001b[0m \u001b[1;32mNone\u001b[0m\u001b[1;33m,\u001b[0m \u001b[0mcopy\u001b[0m\u001b[1;33m:\u001b[0m \u001b[0mbool_t\u001b[0m \u001b[1;33m|\u001b[0m \u001b[1;32mNone\u001b[0m \u001b[1;33m=\u001b[0m \u001b[1;32mNone\u001b[0m\u001b[1;33m\u001b[0m\u001b[1;33m\u001b[0m\u001b[0m\n\u001b[0;32m   2151\u001b[0m     ) -> np.ndarray:\n\u001b[0;32m   2152\u001b[0m         \u001b[0mvalues\u001b[0m \u001b[1;33m=\u001b[0m \u001b[0mself\u001b[0m\u001b[1;33m.\u001b[0m\u001b[0m_values\u001b[0m\u001b[1;33m\u001b[0m\u001b[1;33m\u001b[0m\u001b[0m\n\u001b[1;32m-> 2153\u001b[1;33m         \u001b[0marr\u001b[0m \u001b[1;33m=\u001b[0m \u001b[0mnp\u001b[0m\u001b[1;33m.\u001b[0m\u001b[0masarray\u001b[0m\u001b[1;33m(\u001b[0m\u001b[0mvalues\u001b[0m\u001b[1;33m,\u001b[0m \u001b[0mdtype\u001b[0m\u001b[1;33m=\u001b[0m\u001b[0mdtype\u001b[0m\u001b[1;33m)\u001b[0m\u001b[1;33m\u001b[0m\u001b[1;33m\u001b[0m\u001b[0m\n\u001b[0m\u001b[0;32m   2154\u001b[0m         if (\n\u001b[0;32m   2155\u001b[0m             \u001b[0mastype_is_view\u001b[0m\u001b[1;33m(\u001b[0m\u001b[0mvalues\u001b[0m\u001b[1;33m.\u001b[0m\u001b[0mdtype\u001b[0m\u001b[1;33m,\u001b[0m \u001b[0marr\u001b[0m\u001b[1;33m.\u001b[0m\u001b[0mdtype\u001b[0m\u001b[1;33m)\u001b[0m\u001b[1;33m\u001b[0m\u001b[1;33m\u001b[0m\u001b[0m\n\u001b[0;32m   2156\u001b[0m             \u001b[1;32mand\u001b[0m \u001b[0musing_copy_on_write\u001b[0m\u001b[1;33m(\u001b[0m\u001b[1;33m)\u001b[0m\u001b[1;33m\u001b[0m\u001b[1;33m\u001b[0m\u001b[0m\n",
      "\u001b[1;31mValueError\u001b[0m: could not convert string to float: 'BHU'"
     ]
    }
   ],
   "source": [
    "model.fit(x_train,y_train)"
   ]
  },
  {
   "cell_type": "markdown",
   "id": "02e53935-bcf7-4c83-bfe2-2c8e4e7b3150",
   "metadata": {},
   "source": [
    "#### The above error is occurred because of we have to convert the data type from string to float.\n",
    "\n",
    "#### we can know which column must be converted by using \".info()\" method ."
   ]
  },
  {
   "cell_type": "code",
   "execution_count": 19,
   "id": "9c1b2d4e-5b1f-4c8f-8aa2-4ca22d51d59d",
   "metadata": {},
   "outputs": [
    {
     "name": "stdout",
     "output_type": "stream",
     "text": [
      "<class 'pandas.core.frame.DataFrame'>\n",
      "RangeIndex: 334 entries, 0 to 333\n",
      "Data columns (total 9 columns):\n",
      " #   Column       Non-Null Count  Dtype  \n",
      "---  ------       --------------  -----  \n",
      " 0   team         334 non-null    object \n",
      " 1   year         334 non-null    int64  \n",
      " 2   athletes     334 non-null    int64  \n",
      " 3   events       334 non-null    int64  \n",
      " 4   age          334 non-null    float64\n",
      " 5   height       334 non-null    float64\n",
      " 6   weight       334 non-null    float64\n",
      " 7   prev_medals  334 non-null    int64  \n",
      " 8   medals       334 non-null    int64  \n",
      "dtypes: float64(3), int64(5), object(1)\n",
      "memory usage: 23.6+ KB\n"
     ]
    }
   ],
   "source": [
    "team.info()"
   ]
  },
  {
   "cell_type": "markdown",
   "id": "aaf509a2-e282-4d24-abae-2c6c0565910c",
   "metadata": {},
   "source": [
    "#### as shown the we need to convert the team column to float because the team column data type is object, mean that it is string data type .\n",
    "\n",
    "#### so by using sklearn library and import the onehotencoder and columntransformer and create the variable that contains the data type which is converted "
   ]
  },
  {
   "cell_type": "code",
   "execution_count": 20,
   "id": "5ceb702e-2fcb-4b52-9b50-62567afe5b3f",
   "metadata": {},
   "outputs": [],
   "source": [
    "#convert data type using sklearn \n",
    "from sklearn.preprocessing import OneHotEncoder\n",
    "from sklearn.compose import ColumnTransformer\n",
    "feature=[\"team\"]\n",
    "onehot=OneHotEncoder(handle_unknown=\"ignore\")\n",
    "trans=ColumnTransformer([(\"onehot\",onehot,feature)],remainder=\"passthrough\")\n",
    "encode_train=trans.fit_transform(x_train)\n",
    "encode_test=trans.transform(x_test)\n"
   ]
  },
  {
   "cell_type": "code",
   "execution_count": 21,
   "id": "06a3810a-c021-4e60-a9ca-a5147c6962b5",
   "metadata": {},
   "outputs": [
    {
     "name": "stdout",
     "output_type": "stream",
     "text": [
      "   onehot__team_AFG  onehot__team_AHO  onehot__team_ALB  onehot__team_ALG  \\\n",
      "0               0.0               0.0               0.0               0.0   \n",
      "1               0.0               0.0               0.0               0.0   \n",
      "2               0.0               0.0               0.0               1.0   \n",
      "3               0.0               0.0               0.0               0.0   \n",
      "4               0.0               0.0               0.0               0.0   \n",
      "\n",
      "   onehot__team_AND  onehot__team_ANG  onehot__team_ANT  onehot__team_ARG  \\\n",
      "0               0.0               0.0               0.0               0.0   \n",
      "1               0.0               0.0               0.0               0.0   \n",
      "2               0.0               0.0               0.0               0.0   \n",
      "3               0.0               0.0               0.0               1.0   \n",
      "4               0.0               0.0               0.0               0.0   \n",
      "\n",
      "   onehot__team_ARM  onehot__team_ARU  ...  onehot__team_CAM  \\\n",
      "0               0.0               0.0  ...               0.0   \n",
      "1               0.0               0.0  ...               0.0   \n",
      "2               0.0               0.0  ...               0.0   \n",
      "3               0.0               0.0  ...               0.0   \n",
      "4               0.0               0.0  ...               0.0   \n",
      "\n",
      "   onehot__team_CAN  onehot__team_CAY  remainder__year  remainder__athletes  \\\n",
      "0               0.0               0.0           2000.0                  2.0   \n",
      "1               0.0               0.0           2000.0                  5.0   \n",
      "2               0.0               0.0           1980.0                 63.0   \n",
      "3               0.0               0.0           1988.0                134.0   \n",
      "4               0.0               0.0           2008.0                  3.0   \n",
      "\n",
      "   remainder__events  remainder__age  remainder__height  remainder__weight  \\\n",
      "0                2.0            25.0              164.0               53.5   \n",
      "1                5.0            24.2              173.4               62.0   \n",
      "2               28.0            23.4              175.4               69.2   \n",
      "3               53.0            25.0              178.7               73.4   \n",
      "4                3.0            21.3              172.5               71.5   \n",
      "\n",
      "   remainder__prev_medals  \n",
      "0                     0.0  \n",
      "1                     0.0  \n",
      "2                     0.0  \n",
      "3                     0.0  \n",
      "4                     0.0  \n",
      "\n",
      "[5 rows x 43 columns]\n",
      "   onehot__team_AFG  onehot__team_AHO  onehot__team_ALB  onehot__team_ALG  \\\n",
      "0               0.0               0.0               0.0               0.0   \n",
      "1               0.0               0.0               0.0               0.0   \n",
      "2               0.0               0.0               0.0               0.0   \n",
      "3               0.0               0.0               0.0               0.0   \n",
      "4               0.0               1.0               0.0               0.0   \n",
      "\n",
      "   onehot__team_AND  onehot__team_ANG  onehot__team_ANT  onehot__team_ARG  \\\n",
      "0               0.0               0.0               0.0               0.0   \n",
      "1               0.0               0.0               0.0               1.0   \n",
      "2               0.0               0.0               0.0               0.0   \n",
      "3               0.0               0.0               0.0               0.0   \n",
      "4               0.0               0.0               0.0               0.0   \n",
      "\n",
      "   onehot__team_ARM  onehot__team_ARU  ...  onehot__team_CAM  \\\n",
      "0               0.0               0.0  ...               0.0   \n",
      "1               0.0               0.0  ...               0.0   \n",
      "2               1.0               0.0  ...               0.0   \n",
      "3               0.0               1.0  ...               0.0   \n",
      "4               0.0               0.0  ...               0.0   \n",
      "\n",
      "   onehot__team_CAN  onehot__team_CAY  remainder__year  remainder__athletes  \\\n",
      "0               0.0               0.0           2000.0                  4.0   \n",
      "1               0.0               0.0           1964.0                148.0   \n",
      "2               0.0               0.0           2000.0                 26.0   \n",
      "3               0.0               0.0           2000.0                  5.0   \n",
      "4               0.0               0.0           2004.0                  3.0   \n",
      "\n",
      "   remainder__events  remainder__age  remainder__height  remainder__weight  \\\n",
      "0                4.0            27.0              179.8              103.0   \n",
      "1               78.0            27.5              175.3               74.0   \n",
      "2               26.0            25.6              174.2               75.3   \n",
      "3                5.0            19.6              170.2               61.6   \n",
      "4                3.0            32.3              183.7               80.0   \n",
      "\n",
      "   remainder__prev_medals  \n",
      "0                     0.0  \n",
      "1                     4.0  \n",
      "2                     2.0  \n",
      "3                     0.0  \n",
      "4                     0.0  \n",
      "\n",
      "[5 rows x 43 columns]\n"
     ]
    }
   ],
   "source": [
    "#change to data frame\n",
    "encoded_train_df =pd.DataFrame(encode_train.toarray(),columns=trans.get_feature_names_out())\n",
    "encoded_test_df =pd.DataFrame(encode_test.toarray(),columns=trans.get_feature_names_out())\n",
    "print(encoded_train_df.head())\n",
    "print(encoded_test_df.head())"
   ]
  },
  {
   "cell_type": "markdown",
   "id": "ec74e64d-ba87-47aa-91c8-0906ed665a54",
   "metadata": {},
   "source": [
    "### MODEL CHOOSING"
   ]
  },
  {
   "cell_type": "markdown",
   "id": "5b402504-87d7-4ff0-ad29-95e4cc6b498e",
   "metadata": {},
   "source": [
    "we are creating the model before but it not work because there are done some change so we choose again the model,we choose the classifier machine learing model "
   ]
  },
  {
   "cell_type": "code",
   "execution_count": 22,
   "id": "136c9532-8880-405f-97fb-faae2c43ca0c",
   "metadata": {},
   "outputs": [],
   "source": [
    "#model choosing \n",
    "from sklearn.ensemble import RandomForestClassifier"
   ]
  },
  {
   "cell_type": "markdown",
   "id": "5d1e3bea-ec44-4bc2-9c35-605db5152556",
   "metadata": {},
   "source": [
    "### CREATING MODEL"
   ]
  },
  {
   "cell_type": "code",
   "execution_count": 23,
   "id": "5f993ae2-4bd2-478e-a423-88bdd97380e1",
   "metadata": {},
   "outputs": [],
   "source": [
    "model=RandomForestClassifier()"
   ]
  },
  {
   "cell_type": "markdown",
   "id": "03c4f43f-0631-4513-8315-93e01be92b49",
   "metadata": {},
   "source": [
    "### TRAIN THE MODEL\n",
    "we are going to train the model using the label data mean that in the above we are create the label from the data set so using that value we are train our model "
   ]
  },
  {
   "cell_type": "code",
   "execution_count": 24,
   "id": "0d0db3eb-724c-4d6c-90f9-1f5d212b1053",
   "metadata": {},
   "outputs": [
    {
     "data": {
      "text/html": [
       "<style>#sk-container-id-1 {\n",
       "  /* Definition of color scheme common for light and dark mode */\n",
       "  --sklearn-color-text: black;\n",
       "  --sklearn-color-line: gray;\n",
       "  /* Definition of color scheme for unfitted estimators */\n",
       "  --sklearn-color-unfitted-level-0: #fff5e6;\n",
       "  --sklearn-color-unfitted-level-1: #f6e4d2;\n",
       "  --sklearn-color-unfitted-level-2: #ffe0b3;\n",
       "  --sklearn-color-unfitted-level-3: chocolate;\n",
       "  /* Definition of color scheme for fitted estimators */\n",
       "  --sklearn-color-fitted-level-0: #f0f8ff;\n",
       "  --sklearn-color-fitted-level-1: #d4ebff;\n",
       "  --sklearn-color-fitted-level-2: #b3dbfd;\n",
       "  --sklearn-color-fitted-level-3: cornflowerblue;\n",
       "\n",
       "  /* Specific color for light theme */\n",
       "  --sklearn-color-text-on-default-background: var(--sg-text-color, var(--theme-code-foreground, var(--jp-content-font-color1, black)));\n",
       "  --sklearn-color-background: var(--sg-background-color, var(--theme-background, var(--jp-layout-color0, white)));\n",
       "  --sklearn-color-border-box: var(--sg-text-color, var(--theme-code-foreground, var(--jp-content-font-color1, black)));\n",
       "  --sklearn-color-icon: #696969;\n",
       "\n",
       "  @media (prefers-color-scheme: dark) {\n",
       "    /* Redefinition of color scheme for dark theme */\n",
       "    --sklearn-color-text-on-default-background: var(--sg-text-color, var(--theme-code-foreground, var(--jp-content-font-color1, white)));\n",
       "    --sklearn-color-background: var(--sg-background-color, var(--theme-background, var(--jp-layout-color0, #111)));\n",
       "    --sklearn-color-border-box: var(--sg-text-color, var(--theme-code-foreground, var(--jp-content-font-color1, white)));\n",
       "    --sklearn-color-icon: #878787;\n",
       "  }\n",
       "}\n",
       "\n",
       "#sk-container-id-1 {\n",
       "  color: var(--sklearn-color-text);\n",
       "}\n",
       "\n",
       "#sk-container-id-1 pre {\n",
       "  padding: 0;\n",
       "}\n",
       "\n",
       "#sk-container-id-1 input.sk-hidden--visually {\n",
       "  border: 0;\n",
       "  clip: rect(1px 1px 1px 1px);\n",
       "  clip: rect(1px, 1px, 1px, 1px);\n",
       "  height: 1px;\n",
       "  margin: -1px;\n",
       "  overflow: hidden;\n",
       "  padding: 0;\n",
       "  position: absolute;\n",
       "  width: 1px;\n",
       "}\n",
       "\n",
       "#sk-container-id-1 div.sk-dashed-wrapped {\n",
       "  border: 1px dashed var(--sklearn-color-line);\n",
       "  margin: 0 0.4em 0.5em 0.4em;\n",
       "  box-sizing: border-box;\n",
       "  padding-bottom: 0.4em;\n",
       "  background-color: var(--sklearn-color-background);\n",
       "}\n",
       "\n",
       "#sk-container-id-1 div.sk-container {\n",
       "  /* jupyter's `normalize.less` sets `[hidden] { display: none; }`\n",
       "     but bootstrap.min.css set `[hidden] { display: none !important; }`\n",
       "     so we also need the `!important` here to be able to override the\n",
       "     default hidden behavior on the sphinx rendered scikit-learn.org.\n",
       "     See: https://github.com/scikit-learn/scikit-learn/issues/21755 */\n",
       "  display: inline-block !important;\n",
       "  position: relative;\n",
       "}\n",
       "\n",
       "#sk-container-id-1 div.sk-text-repr-fallback {\n",
       "  display: none;\n",
       "}\n",
       "\n",
       "div.sk-parallel-item,\n",
       "div.sk-serial,\n",
       "div.sk-item {\n",
       "  /* draw centered vertical line to link estimators */\n",
       "  background-image: linear-gradient(var(--sklearn-color-text-on-default-background), var(--sklearn-color-text-on-default-background));\n",
       "  background-size: 2px 100%;\n",
       "  background-repeat: no-repeat;\n",
       "  background-position: center center;\n",
       "}\n",
       "\n",
       "/* Parallel-specific style estimator block */\n",
       "\n",
       "#sk-container-id-1 div.sk-parallel-item::after {\n",
       "  content: \"\";\n",
       "  width: 100%;\n",
       "  border-bottom: 2px solid var(--sklearn-color-text-on-default-background);\n",
       "  flex-grow: 1;\n",
       "}\n",
       "\n",
       "#sk-container-id-1 div.sk-parallel {\n",
       "  display: flex;\n",
       "  align-items: stretch;\n",
       "  justify-content: center;\n",
       "  background-color: var(--sklearn-color-background);\n",
       "  position: relative;\n",
       "}\n",
       "\n",
       "#sk-container-id-1 div.sk-parallel-item {\n",
       "  display: flex;\n",
       "  flex-direction: column;\n",
       "}\n",
       "\n",
       "#sk-container-id-1 div.sk-parallel-item:first-child::after {\n",
       "  align-self: flex-end;\n",
       "  width: 50%;\n",
       "}\n",
       "\n",
       "#sk-container-id-1 div.sk-parallel-item:last-child::after {\n",
       "  align-self: flex-start;\n",
       "  width: 50%;\n",
       "}\n",
       "\n",
       "#sk-container-id-1 div.sk-parallel-item:only-child::after {\n",
       "  width: 0;\n",
       "}\n",
       "\n",
       "/* Serial-specific style estimator block */\n",
       "\n",
       "#sk-container-id-1 div.sk-serial {\n",
       "  display: flex;\n",
       "  flex-direction: column;\n",
       "  align-items: center;\n",
       "  background-color: var(--sklearn-color-background);\n",
       "  padding-right: 1em;\n",
       "  padding-left: 1em;\n",
       "}\n",
       "\n",
       "\n",
       "/* Toggleable style: style used for estimator/Pipeline/ColumnTransformer box that is\n",
       "clickable and can be expanded/collapsed.\n",
       "- Pipeline and ColumnTransformer use this feature and define the default style\n",
       "- Estimators will overwrite some part of the style using the `sk-estimator` class\n",
       "*/\n",
       "\n",
       "/* Pipeline and ColumnTransformer style (default) */\n",
       "\n",
       "#sk-container-id-1 div.sk-toggleable {\n",
       "  /* Default theme specific background. It is overwritten whether we have a\n",
       "  specific estimator or a Pipeline/ColumnTransformer */\n",
       "  background-color: var(--sklearn-color-background);\n",
       "}\n",
       "\n",
       "/* Toggleable label */\n",
       "#sk-container-id-1 label.sk-toggleable__label {\n",
       "  cursor: pointer;\n",
       "  display: block;\n",
       "  width: 100%;\n",
       "  margin-bottom: 0;\n",
       "  padding: 0.5em;\n",
       "  box-sizing: border-box;\n",
       "  text-align: center;\n",
       "}\n",
       "\n",
       "#sk-container-id-1 label.sk-toggleable__label-arrow:before {\n",
       "  /* Arrow on the left of the label */\n",
       "  content: \"▸\";\n",
       "  float: left;\n",
       "  margin-right: 0.25em;\n",
       "  color: var(--sklearn-color-icon);\n",
       "}\n",
       "\n",
       "#sk-container-id-1 label.sk-toggleable__label-arrow:hover:before {\n",
       "  color: var(--sklearn-color-text);\n",
       "}\n",
       "\n",
       "/* Toggleable content - dropdown */\n",
       "\n",
       "#sk-container-id-1 div.sk-toggleable__content {\n",
       "  max-height: 0;\n",
       "  max-width: 0;\n",
       "  overflow: hidden;\n",
       "  text-align: left;\n",
       "  /* unfitted */\n",
       "  background-color: var(--sklearn-color-unfitted-level-0);\n",
       "}\n",
       "\n",
       "#sk-container-id-1 div.sk-toggleable__content.fitted {\n",
       "  /* fitted */\n",
       "  background-color: var(--sklearn-color-fitted-level-0);\n",
       "}\n",
       "\n",
       "#sk-container-id-1 div.sk-toggleable__content pre {\n",
       "  margin: 0.2em;\n",
       "  border-radius: 0.25em;\n",
       "  color: var(--sklearn-color-text);\n",
       "  /* unfitted */\n",
       "  background-color: var(--sklearn-color-unfitted-level-0);\n",
       "}\n",
       "\n",
       "#sk-container-id-1 div.sk-toggleable__content.fitted pre {\n",
       "  /* unfitted */\n",
       "  background-color: var(--sklearn-color-fitted-level-0);\n",
       "}\n",
       "\n",
       "#sk-container-id-1 input.sk-toggleable__control:checked~div.sk-toggleable__content {\n",
       "  /* Expand drop-down */\n",
       "  max-height: 200px;\n",
       "  max-width: 100%;\n",
       "  overflow: auto;\n",
       "}\n",
       "\n",
       "#sk-container-id-1 input.sk-toggleable__control:checked~label.sk-toggleable__label-arrow:before {\n",
       "  content: \"▾\";\n",
       "}\n",
       "\n",
       "/* Pipeline/ColumnTransformer-specific style */\n",
       "\n",
       "#sk-container-id-1 div.sk-label input.sk-toggleable__control:checked~label.sk-toggleable__label {\n",
       "  color: var(--sklearn-color-text);\n",
       "  background-color: var(--sklearn-color-unfitted-level-2);\n",
       "}\n",
       "\n",
       "#sk-container-id-1 div.sk-label.fitted input.sk-toggleable__control:checked~label.sk-toggleable__label {\n",
       "  background-color: var(--sklearn-color-fitted-level-2);\n",
       "}\n",
       "\n",
       "/* Estimator-specific style */\n",
       "\n",
       "/* Colorize estimator box */\n",
       "#sk-container-id-1 div.sk-estimator input.sk-toggleable__control:checked~label.sk-toggleable__label {\n",
       "  /* unfitted */\n",
       "  background-color: var(--sklearn-color-unfitted-level-2);\n",
       "}\n",
       "\n",
       "#sk-container-id-1 div.sk-estimator.fitted input.sk-toggleable__control:checked~label.sk-toggleable__label {\n",
       "  /* fitted */\n",
       "  background-color: var(--sklearn-color-fitted-level-2);\n",
       "}\n",
       "\n",
       "#sk-container-id-1 div.sk-label label.sk-toggleable__label,\n",
       "#sk-container-id-1 div.sk-label label {\n",
       "  /* The background is the default theme color */\n",
       "  color: var(--sklearn-color-text-on-default-background);\n",
       "}\n",
       "\n",
       "/* On hover, darken the color of the background */\n",
       "#sk-container-id-1 div.sk-label:hover label.sk-toggleable__label {\n",
       "  color: var(--sklearn-color-text);\n",
       "  background-color: var(--sklearn-color-unfitted-level-2);\n",
       "}\n",
       "\n",
       "/* Label box, darken color on hover, fitted */\n",
       "#sk-container-id-1 div.sk-label.fitted:hover label.sk-toggleable__label.fitted {\n",
       "  color: var(--sklearn-color-text);\n",
       "  background-color: var(--sklearn-color-fitted-level-2);\n",
       "}\n",
       "\n",
       "/* Estimator label */\n",
       "\n",
       "#sk-container-id-1 div.sk-label label {\n",
       "  font-family: monospace;\n",
       "  font-weight: bold;\n",
       "  display: inline-block;\n",
       "  line-height: 1.2em;\n",
       "}\n",
       "\n",
       "#sk-container-id-1 div.sk-label-container {\n",
       "  text-align: center;\n",
       "}\n",
       "\n",
       "/* Estimator-specific */\n",
       "#sk-container-id-1 div.sk-estimator {\n",
       "  font-family: monospace;\n",
       "  border: 1px dotted var(--sklearn-color-border-box);\n",
       "  border-radius: 0.25em;\n",
       "  box-sizing: border-box;\n",
       "  margin-bottom: 0.5em;\n",
       "  /* unfitted */\n",
       "  background-color: var(--sklearn-color-unfitted-level-0);\n",
       "}\n",
       "\n",
       "#sk-container-id-1 div.sk-estimator.fitted {\n",
       "  /* fitted */\n",
       "  background-color: var(--sklearn-color-fitted-level-0);\n",
       "}\n",
       "\n",
       "/* on hover */\n",
       "#sk-container-id-1 div.sk-estimator:hover {\n",
       "  /* unfitted */\n",
       "  background-color: var(--sklearn-color-unfitted-level-2);\n",
       "}\n",
       "\n",
       "#sk-container-id-1 div.sk-estimator.fitted:hover {\n",
       "  /* fitted */\n",
       "  background-color: var(--sklearn-color-fitted-level-2);\n",
       "}\n",
       "\n",
       "/* Specification for estimator info (e.g. \"i\" and \"?\") */\n",
       "\n",
       "/* Common style for \"i\" and \"?\" */\n",
       "\n",
       ".sk-estimator-doc-link,\n",
       "a:link.sk-estimator-doc-link,\n",
       "a:visited.sk-estimator-doc-link {\n",
       "  float: right;\n",
       "  font-size: smaller;\n",
       "  line-height: 1em;\n",
       "  font-family: monospace;\n",
       "  background-color: var(--sklearn-color-background);\n",
       "  border-radius: 1em;\n",
       "  height: 1em;\n",
       "  width: 1em;\n",
       "  text-decoration: none !important;\n",
       "  margin-left: 1ex;\n",
       "  /* unfitted */\n",
       "  border: var(--sklearn-color-unfitted-level-1) 1pt solid;\n",
       "  color: var(--sklearn-color-unfitted-level-1);\n",
       "}\n",
       "\n",
       ".sk-estimator-doc-link.fitted,\n",
       "a:link.sk-estimator-doc-link.fitted,\n",
       "a:visited.sk-estimator-doc-link.fitted {\n",
       "  /* fitted */\n",
       "  border: var(--sklearn-color-fitted-level-1) 1pt solid;\n",
       "  color: var(--sklearn-color-fitted-level-1);\n",
       "}\n",
       "\n",
       "/* On hover */\n",
       "div.sk-estimator:hover .sk-estimator-doc-link:hover,\n",
       ".sk-estimator-doc-link:hover,\n",
       "div.sk-label-container:hover .sk-estimator-doc-link:hover,\n",
       ".sk-estimator-doc-link:hover {\n",
       "  /* unfitted */\n",
       "  background-color: var(--sklearn-color-unfitted-level-3);\n",
       "  color: var(--sklearn-color-background);\n",
       "  text-decoration: none;\n",
       "}\n",
       "\n",
       "div.sk-estimator.fitted:hover .sk-estimator-doc-link.fitted:hover,\n",
       ".sk-estimator-doc-link.fitted:hover,\n",
       "div.sk-label-container:hover .sk-estimator-doc-link.fitted:hover,\n",
       ".sk-estimator-doc-link.fitted:hover {\n",
       "  /* fitted */\n",
       "  background-color: var(--sklearn-color-fitted-level-3);\n",
       "  color: var(--sklearn-color-background);\n",
       "  text-decoration: none;\n",
       "}\n",
       "\n",
       "/* Span, style for the box shown on hovering the info icon */\n",
       ".sk-estimator-doc-link span {\n",
       "  display: none;\n",
       "  z-index: 9999;\n",
       "  position: relative;\n",
       "  font-weight: normal;\n",
       "  right: .2ex;\n",
       "  padding: .5ex;\n",
       "  margin: .5ex;\n",
       "  width: min-content;\n",
       "  min-width: 20ex;\n",
       "  max-width: 50ex;\n",
       "  color: var(--sklearn-color-text);\n",
       "  box-shadow: 2pt 2pt 4pt #999;\n",
       "  /* unfitted */\n",
       "  background: var(--sklearn-color-unfitted-level-0);\n",
       "  border: .5pt solid var(--sklearn-color-unfitted-level-3);\n",
       "}\n",
       "\n",
       ".sk-estimator-doc-link.fitted span {\n",
       "  /* fitted */\n",
       "  background: var(--sklearn-color-fitted-level-0);\n",
       "  border: var(--sklearn-color-fitted-level-3);\n",
       "}\n",
       "\n",
       ".sk-estimator-doc-link:hover span {\n",
       "  display: block;\n",
       "}\n",
       "\n",
       "/* \"?\"-specific style due to the `<a>` HTML tag */\n",
       "\n",
       "#sk-container-id-1 a.estimator_doc_link {\n",
       "  float: right;\n",
       "  font-size: 1rem;\n",
       "  line-height: 1em;\n",
       "  font-family: monospace;\n",
       "  background-color: var(--sklearn-color-background);\n",
       "  border-radius: 1rem;\n",
       "  height: 1rem;\n",
       "  width: 1rem;\n",
       "  text-decoration: none;\n",
       "  /* unfitted */\n",
       "  color: var(--sklearn-color-unfitted-level-1);\n",
       "  border: var(--sklearn-color-unfitted-level-1) 1pt solid;\n",
       "}\n",
       "\n",
       "#sk-container-id-1 a.estimator_doc_link.fitted {\n",
       "  /* fitted */\n",
       "  border: var(--sklearn-color-fitted-level-1) 1pt solid;\n",
       "  color: var(--sklearn-color-fitted-level-1);\n",
       "}\n",
       "\n",
       "/* On hover */\n",
       "#sk-container-id-1 a.estimator_doc_link:hover {\n",
       "  /* unfitted */\n",
       "  background-color: var(--sklearn-color-unfitted-level-3);\n",
       "  color: var(--sklearn-color-background);\n",
       "  text-decoration: none;\n",
       "}\n",
       "\n",
       "#sk-container-id-1 a.estimator_doc_link.fitted:hover {\n",
       "  /* fitted */\n",
       "  background-color: var(--sklearn-color-fitted-level-3);\n",
       "}\n",
       "</style><div id=\"sk-container-id-1\" class=\"sk-top-container\"><div class=\"sk-text-repr-fallback\"><pre>RandomForestClassifier()</pre><b>In a Jupyter environment, please rerun this cell to show the HTML representation or trust the notebook. <br />On GitHub, the HTML representation is unable to render, please try loading this page with nbviewer.org.</b></div><div class=\"sk-container\" hidden><div class=\"sk-item\"><div class=\"sk-estimator fitted sk-toggleable\"><input class=\"sk-toggleable__control sk-hidden--visually\" id=\"sk-estimator-id-1\" type=\"checkbox\" checked><label for=\"sk-estimator-id-1\" class=\"sk-toggleable__label fitted sk-toggleable__label-arrow fitted\">&nbsp;&nbsp;RandomForestClassifier<a class=\"sk-estimator-doc-link fitted\" rel=\"noreferrer\" target=\"_blank\" href=\"https://scikit-learn.org/1.5/modules/generated/sklearn.ensemble.RandomForestClassifier.html\">?<span>Documentation for RandomForestClassifier</span></a><span class=\"sk-estimator-doc-link fitted\">i<span>Fitted</span></span></label><div class=\"sk-toggleable__content fitted\"><pre>RandomForestClassifier()</pre></div> </div></div></div></div>"
      ],
      "text/plain": [
       "RandomForestClassifier()"
      ]
     },
     "execution_count": 24,
     "metadata": {},
     "output_type": "execute_result"
    }
   ],
   "source": [
    "model.fit(encode_train,y_train)"
   ]
  },
  {
   "cell_type": "markdown",
   "id": "28945d48-d923-4652-a74f-9f16e6947e83",
   "metadata": {},
   "source": [
    "### PREDICTION\n",
    "now the model was predicting value using the given test value"
   ]
  },
  {
   "cell_type": "code",
   "execution_count": 25,
   "id": "5e747070-ab47-4d13-a68c-399a93fdb68f",
   "metadata": {},
   "outputs": [],
   "source": [
    "pred=model.predict(encode_test)"
   ]
  },
  {
   "cell_type": "code",
   "execution_count": 26,
   "id": "7c4708f2-2d3a-4786-b51f-2938f6c72c5d",
   "metadata": {},
   "outputs": [
    {
     "name": "stdout",
     "output_type": "stream",
     "text": [
      "   team  year  athletes  events   age  height  weight  prev_medals\n",
      "90  ASA  2000         4       4  27.0   179.8   103.0            0\n",
      "64  ARG  1964       148      78  27.5   175.3    74.0            4\n",
      "77  ARM  2000        26      26  25.6   174.2    75.3            2\n",
      "84  ARU  2000         5       5  19.6   170.2    61.6            0\n",
      "17  AHO  2004         3       3  32.3   183.7    80.0            0\n"
     ]
    },
    {
     "data": {
      "text/plain": [
       "array([  0,   1,   0,   0,   0,   0,   0,   6,   0,   3,   0,   0,   0,\n",
       "         0,   0,   0,   0,   0,   0,   0,   0,   5,   0,   2,   0,   0,\n",
       "         0,   0,   0,  50,   0,   0,  78,   0,   0,  20,   0,   0, 114,\n",
       "         0,   0,   0,   0,  23,   0,   0,   2,   0,   0,   0,   0,   0,\n",
       "         0,   5,   0,   0,   0,   3,   0,   0,   3,   0,   5,   0,   0,\n",
       "         0,   0,   0,   0,   0,   0,   0,  23,   0, 114,   0,   0,   2,\n",
       "         0,  23,   0,   0,   0,   1,   0,   0,   0,   0,   0,  10,   0,\n",
       "         0,   0,   3,  19,  23,   0,   1,   0,  22,   0,   0,   2,   0,\n",
       "       114,   0,   3,   0,   0,   0,  10,   0,   0,  10,   0,  21,  23],\n",
       "      dtype=int64)"
      ]
     },
     "execution_count": 26,
     "metadata": {},
     "output_type": "execute_result"
    }
   ],
   "source": [
    "print(x_test.head())\n",
    "pred"
   ]
  },
  {
   "cell_type": "code",
   "execution_count": 27,
   "id": "d179bbe8-9850-4708-8f1a-722f95b4c690",
   "metadata": {},
   "outputs": [
    {
     "name": "stdout",
     "output_type": "stream",
     "text": [
      "90      0\n",
      "64      1\n",
      "77      1\n",
      "84      0\n",
      "17      0\n",
      "       ..\n",
      "28      2\n",
      "127    18\n",
      "311     0\n",
      "285    13\n",
      "319    44\n",
      "Name: medals, Length: 117, dtype: int64\n",
      "[  0   1   0   0   0   0   0   6   0   3   0   0   0   0   0   0   0   0\n",
      "   0   0   0   5   0   2   0   0   0   0   0  50   0   0  78   0   0  20\n",
      "   0   0 114   0   0   0   0  23   0   0   2   0   0   0   0   0   0   5\n",
      "   0   0   0   3   0   0   3   0   5   0   0   0   0   0   0   0   0   0\n",
      "  23   0 114   0   0   2   0  23   0   0   0   1   0   0   0   0   0  10\n",
      "   0   0   0   3  19  23   0   1   0  22   0   0   2   0 114   0   3   0\n",
      "   0   0  10   0   0  10   0  21  23]\n"
     ]
    }
   ],
   "source": [
    "print(y_test)\n",
    "print(pred)"
   ]
  },
  {
   "cell_type": "markdown",
   "id": "3f9f7dde-ca82-4ee0-ade7-9c618fe5e50d",
   "metadata": {},
   "source": [
    "### EVALUATIONS "
   ]
  },
  {
   "cell_type": "code",
   "execution_count": 28,
   "id": "3429800a-803a-42fc-9409-12e19b3f13fa",
   "metadata": {},
   "outputs": [
    {
     "name": "stdout",
     "output_type": "stream",
     "text": [
      "using score 62.39%\n"
     ]
    }
   ],
   "source": [
    "#evaluation\n",
    "print((\"using score\"),f\"{model.score(encode_test,y_test)*100:.2f}%\")\n"
   ]
  },
  {
   "cell_type": "markdown",
   "id": "495fddcb-03b9-4a9c-95e4-06ef9612ef9d",
   "metadata": {},
   "source": [
    "### EXPERIMENTATION \n",
    "There are many experimentation way to see the method use the \".get_params\" method it will show many type"
   ]
  },
  {
   "cell_type": "code",
   "execution_count": 29,
   "id": "c83b449f-2e4b-4377-9e64-17e574aec174",
   "metadata": {},
   "outputs": [
    {
     "data": {
      "text/plain": [
       "{'bootstrap': True,\n",
       " 'ccp_alpha': 0.0,\n",
       " 'class_weight': None,\n",
       " 'criterion': 'gini',\n",
       " 'max_depth': None,\n",
       " 'max_features': 'sqrt',\n",
       " 'max_leaf_nodes': None,\n",
       " 'max_samples': None,\n",
       " 'min_impurity_decrease': 0.0,\n",
       " 'min_samples_leaf': 1,\n",
       " 'min_samples_split': 2,\n",
       " 'min_weight_fraction_leaf': 0.0,\n",
       " 'monotonic_cst': None,\n",
       " 'n_estimators': 100,\n",
       " 'n_jobs': None,\n",
       " 'oob_score': False,\n",
       " 'random_state': None,\n",
       " 'verbose': 0,\n",
       " 'warm_start': False}"
      ]
     },
     "execution_count": 29,
     "metadata": {},
     "output_type": "execute_result"
    }
   ],
   "source": [
    "model.get_params()"
   ]
  },
  {
   "cell_type": "markdown",
   "id": "afd24430-f497-4e55-bc1a-bb7917b3ebfe",
   "metadata": {},
   "source": [
    "#### using \"n_estimators\"\n",
    "it was most common type so we use it to get better value"
   ]
  },
  {
   "cell_type": "code",
   "execution_count": 35,
   "id": "703aaac6-2f43-4fcc-9fab-3b0dd07c814e",
   "metadata": {},
   "outputs": [
    {
     "name": "stdout",
     "output_type": "stream",
     "text": [
      "values of estimators =100\n",
      "63.25%\n",
      "values of estimators =110\n",
      "63.25%\n",
      "values of estimators =120\n",
      "63.25%\n",
      "values of estimators =130\n",
      "63.25%\n",
      "values of estimators =140\n",
      "62.39%\n",
      "values of estimators =150\n",
      "63.25%\n",
      "values of estimators =160\n",
      "62.39%\n",
      "values of estimators =170\n",
      "63.25%\n",
      "values of estimators =180\n",
      "63.25%\n",
      "values of estimators =190\n",
      "63.25%\n"
     ]
    }
   ],
   "source": [
    "for i in range(100,200,10):\n",
    "    print(f\"values of estimators ={i}\")\n",
    "    model =RandomForestClassifier(n_estimators=i)\n",
    "    model.fit(encode_train,y_train)\n",
    "    print(f\"{model.score(encode_test,y_test)*100:.2f}%\")"
   ]
  },
  {
   "cell_type": "code",
   "execution_count": 36,
   "id": "ba9dc2d3-c3de-4828-9932-64ca3124f1fe",
   "metadata": {},
   "outputs": [
    {
     "name": "stdout",
     "output_type": "stream",
     "text": [
      "63.25%\n"
     ]
    }
   ],
   "source": [
    "#after it generate some values we choose the highest estimator value\n",
    "model=RandomForestClassifier(n_estimators=110).fit(encode_train,y_train)\n",
    "print(f\"{model.score(encode_test,y_test)*100:.2f}%\")"
   ]
  },
  {
   "cell_type": "markdown",
   "id": "ccab7dbd-fca8-431b-9b20-c0996e3eee58",
   "metadata": {},
   "source": [
    "#### using \"max_feature\" method"
   ]
  },
  {
   "cell_type": "code",
   "execution_count": 37,
   "id": "61776a0b-fad3-479a-98fa-a3c594867b8b",
   "metadata": {},
   "outputs": [
    {
     "name": "stdout",
     "output_type": "stream",
     "text": [
      "62.39%\n"
     ]
    }
   ],
   "source": [
    "model=RandomForestClassifier(max_features=1).fit(encode_train,y_train)\n",
    "print(f\"{model.score(encode_test,y_test)*100:.2f}%\")\n"
   ]
  },
  {
   "cell_type": "markdown",
   "id": "10353c53-875a-4fde-8091-dda48fef7768",
   "metadata": {},
   "source": [
    "#### using \"min_samples_split\" method"
   ]
  },
  {
   "cell_type": "code",
   "execution_count": 38,
   "id": "c4744b0e-dff1-4627-a229-49276e0eb246",
   "metadata": {},
   "outputs": [
    {
     "name": "stdout",
     "output_type": "stream",
     "text": [
      "63.25%\n"
     ]
    }
   ],
   "source": [
    "model=RandomForestClassifier(min_samples_split=2).fit(encode_train,y_train)\n",
    "print(f\"{model.score(encode_test,y_test)*100:.2f}%\")"
   ]
  },
  {
   "cell_type": "markdown",
   "id": "dd6889f7-904a-4484-866d-e74c490bd25d",
   "metadata": {},
   "source": [
    "### SAVE THE MODEL\n",
    "TO save the model there are many library are there but the most common one is pickle so we should import it"
   ]
  },
  {
   "cell_type": "code",
   "execution_count": 40,
   "id": "b4652275-6a42-45b5-bb8e-a10cfcd91414",
   "metadata": {},
   "outputs": [],
   "source": [
    "import pickle"
   ]
  },
  {
   "cell_type": "code",
   "execution_count": 41,
   "id": "6d3c5918-141a-44c8-b30a-1228e4123b9f",
   "metadata": {},
   "outputs": [],
   "source": [
    "pickle.dump(model,open(\"lab_project.pkl\",\"wb\"))"
   ]
  },
  {
   "cell_type": "markdown",
   "id": "a8024709-e83c-4f7d-b2da-3bcc97e4204d",
   "metadata": {},
   "source": [
    "### LOAD THE SAVED MODEL"
   ]
  },
  {
   "cell_type": "code",
   "execution_count": 42,
   "id": "e1cafc79-3aa2-47f5-a399-c88c5b426b57",
   "metadata": {},
   "outputs": [],
   "source": [
    "loaded_model= pickle.load(open(\"lab_project.pkl\",\"rb\"))"
   ]
  },
  {
   "cell_type": "code",
   "execution_count": 43,
   "id": "e76ef85f-890f-45aa-a736-862928a84a8d",
   "metadata": {},
   "outputs": [
    {
     "name": "stdout",
     "output_type": "stream",
     "text": [
      "63.25%\n"
     ]
    }
   ],
   "source": [
    "print(f\"{loaded_model.score(encode_test,y_test)*100:.2f}%\")"
   ]
  },
  {
   "cell_type": "markdown",
   "id": "39f91e65-cebb-459d-aafb-f63e1b746036",
   "metadata": {},
   "source": [
    "THANK YOU SEE YOU SOON"
   ]
  },
  {
   "cell_type": "code",
   "execution_count": null,
   "id": "35a26fee-8e63-4dac-9989-06c6902c0470",
   "metadata": {},
   "outputs": [],
   "source": []
  }
 ],
 "metadata": {
  "kernelspec": {
   "display_name": "Python 3 (ipykernel)",
   "language": "python",
   "name": "python3"
  },
  "language_info": {
   "codemirror_mode": {
    "name": "ipython",
    "version": 3
   },
   "file_extension": ".py",
   "mimetype": "text/x-python",
   "name": "python",
   "nbconvert_exporter": "python",
   "pygments_lexer": "ipython3",
   "version": "3.11.8"
  }
 },
 "nbformat": 4,
 "nbformat_minor": 5
}
